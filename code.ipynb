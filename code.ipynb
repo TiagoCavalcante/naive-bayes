{
 "cells": [
  {
   "cell_type": "code",
   "execution_count": null,
   "metadata": {},
   "outputs": [],
   "source": [
    "# Breast Cancer classification using Naive Bayes"
   ]
  },
  {
   "cell_type": "code",
   "execution_count": null,
   "metadata": {},
   "outputs": [],
   "source": [
    "from csv import reader\n",
    "\n",
    "\n",
    "# Load a CSV file\n",
    "def load_csv(filename):\n",
    "  dataset = []\n",
    "  with open(filename, \"r\") as file:\n",
    "    csv_reader = reader(file)\n",
    "    for row in csv_reader:\n",
    "      dataset.append([float(value) for value in row])\n",
    "  return dataset\n"
   ]
  },
  {
   "cell_type": "code",
   "execution_count": null,
   "metadata": {},
   "outputs": [],
   "source": [
    "from math import sqrt, exp, pi\n",
    "\n",
    "\n",
    "# Calculate the mean of a list of numbers\n",
    "def mean(numbers):\n",
    "  return sum(numbers) / float(len(numbers))\n",
    "\n",
    "\n",
    "# Calculate the standard deviation of a list of numbers\n",
    "def stdev(numbers):\n",
    "  avg = mean(numbers)\n",
    "  variance = sum(\n",
    "      [(x - avg) ** 2 for x in numbers]) / float(len(numbers) - 1)\n",
    "  return sqrt(variance)\n",
    "\n",
    "\n",
    "# Calculate the Gaussian probability distribution function for x\n",
    "def calculate_probability(x, mean, stdev):\n",
    "  exponent = exp(-((x - mean) ** 2 / (2 * stdev**2)))\n",
    "  return (1 / (sqrt(2 * pi) * stdev)) * exponent\n"
   ]
  },
  {
   "cell_type": "code",
   "execution_count": null,
   "metadata": {},
   "outputs": [],
   "source": [
    "from collections import defaultdict\n",
    "\n",
    "\n",
    "# Split the dataset by class values, returns a dictionary\n",
    "# where the keys are the classes and the values are the\n",
    "# rows of the respective class.\n",
    "def separate_by_class(dataset):\n",
    "  separated = defaultdict(lambda: [])\n",
    "  for row in dataset:\n",
    "    class_value = row[-1]\n",
    "    separated[class_value].append(row[:-1])\n",
    "  return separated\n"
   ]
  },
  {
   "cell_type": "code",
   "execution_count": null,
   "metadata": {},
   "outputs": [],
   "source": [
    "# Calculate the mean, stdev and count for each column in a dataset.\n",
    "def summarize_dataset(dataset):\n",
    "  summaries = [{\n",
    "      \"mean\": mean(column),\n",
    "      \"stdev\": stdev(column),\n",
    "      \"len\": len(column),\n",
    "  } for column in zip(*dataset)]\n",
    "\n",
    "  return summaries\n",
    "\n",
    "\n",
    "# Split dataset by class then calculate statistics for each row.\n",
    "def summarize_by_class(dataset):\n",
    "  separated = separate_by_class(dataset)\n",
    "  for i in range(len(separated)):\n",
    "    separated[i] = summarize_dataset(separated[i])\n",
    "  return separated\n"
   ]
  },
  {
   "cell_type": "code",
   "execution_count": null,
   "metadata": {},
   "outputs": [],
   "source": [
    "# Data modified from\n",
    "# https://archive.ics.uci.edu/ml/datasets/Breast+Cancer+Wisconsin+(Diagnostic)\n",
    "dataset = load_csv(\"data.csv\")\n",
    "\n",
    "train_data = dataset[:400]\n",
    "test_data = dataset[400:]\n"
   ]
  },
  {
   "cell_type": "code",
   "execution_count": null,
   "metadata": {},
   "outputs": [],
   "source": [
    "# Fit the model.\n",
    "model = summarize_by_class(train_data)\n"
   ]
  },
  {
   "cell_type": "code",
   "execution_count": null,
   "metadata": {},
   "outputs": [],
   "source": [
    "# Calculate the probabilities of predicting each class for a given row.\n",
    "def calculate_class_probabilities(summaries, row):\n",
    "  total_rows = sum([summaries[label][0][\"len\"] for label in summaries])\n",
    "  probabilities = {}\n",
    "  for class_value, class_summaries in summaries.items():\n",
    "    # The proportion between the number of rows that\n",
    "    # have this class and the total number of rows.\n",
    "    # This is the start probability.\n",
    "    probabilities[class_value] = class_summaries[0][\"len\"] / total_rows\n",
    "    for i, summary in enumerate(class_summaries):\n",
    "      # Calculate the probability for each attribute.\n",
    "      probabilities[class_value] *= calculate_probability(\n",
    "          row[i], summary[\"mean\"], summary[\"stdev\"])\n",
    "  return probabilities\n",
    "\n",
    "\n",
    "# Predict the class for a given row.\n",
    "def predict(summaries, row):\n",
    "  probabilities = calculate_class_probabilities(summaries, row)\n",
    "  best_label = max(probabilities, key=probabilities.get)\n",
    "  return best_label\n"
   ]
  },
  {
   "cell_type": "code",
   "execution_count": null,
   "metadata": {},
   "outputs": [],
   "source": [
    "correct = 0\n",
    "\n",
    "for data in test_data:\n",
    "  if predict(model, data[:-1]) == data[-1]:\n",
    "    correct += 1\n",
    "\n",
    "accuracy = correct / len(test_data)\n",
    "\n",
    "print(f\"Accurary = {accuracy}\")\n"
   ]
  }
 ],
 "metadata": {
  "kernelspec": {
   "display_name": "Python 3.9.9 64-bit",
   "language": "python",
   "name": "python3"
  },
  "language_info": {
   "codemirror_mode": {
    "name": "ipython",
    "version": 3
   },
   "file_extension": ".py",
   "mimetype": "text/x-python",
   "name": "python",
   "nbconvert_exporter": "python",
   "pygments_lexer": "ipython3",
   "version": "3.9.9"
  },
  "orig_nbformat": 4,
  "vscode": {
   "interpreter": {
    "hash": "e7370f93d1d0cde622a1f8e1c04877d8463912d04d973331ad4851f04de6915a"
   }
  }
 },
 "nbformat": 4,
 "nbformat_minor": 2
}
